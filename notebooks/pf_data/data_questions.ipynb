{
 "cells": [
  {
   "cell_type": "code",
   "id": "initial_id",
   "metadata": {
    "collapsed": true,
    "ExecuteTime": {
     "end_time": "2024-08-28T03:15:14.602716Z",
     "start_time": "2024-08-28T03:15:14.599691Z"
    }
   },
   "source": [
    "import json\n",
    "\n",
    "\n",
    "class PFNode:\n",
    "    def __init__(self, json_data):\n",
    "        if \"_id\" in json_data:\n",
    "            self.id = json_data[\"_id\"]\n",
    "        elif \"id\" in json_data:\n",
    "            self.id = json_data[\"id\"]\n",
    "        else:\n",
    "            print(\"Error: no id - data: \", json_data)\n",
    "            return\n",
    "        if \"data\" in json_data:\n",
    "            self.data = json_data[\"data\"]\n",
    "        else:\n",
    "            self.data = {}\n",
    "        if \"styles\" in json_data:\n",
    "            self.styles = json_data[\"styles\"]\n",
    "        else:\n",
    "            self.styles = []\n",
    "        if \"children\" in json_data:\n",
    "            self.child_ids = json_data[\"children\"]\n",
    "            if self.id == \"8627c705-d58a-49e1-8da1-04cd1eb64d68\":\n",
    "                print(\"===PFNode=== Node id: \", self.id, \"Children: \", self.child_ids)\n",
    "        else:\n",
    "            self.child_ids = []\n",
    "        self.type = json_data[\"type\"]\n",
    "        self.children = []  # to parse later whe\n",
    "\n",
    "    def add_child(self, child):\n",
    "        self.children.append(child)\n",
    "\n",
    "    def add_style(self, style):\n",
    "        self.styles.append(style)\n",
    "\n",
    "    def __repr__(self):\n",
    "        # return the representation of the node in JSON format\n",
    "        return json.dumps(self.__dict__, indent=4)\n",
    "\n"
   ],
   "outputs": [],
   "execution_count": 2
  },
  {
   "metadata": {
    "ExecuteTime": {
     "end_time": "2024-08-28T03:36:19.958984Z",
     "start_time": "2024-08-28T03:36:19.954621Z"
    }
   },
   "cell_type": "code",
   "source": [
    "\n",
    "with open(\"sample_figma_to_pf_data/ContentList/figma-to-pf.json\") as f:\n",
    "    json_data = json.load(f) "
   ],
   "id": "b4b542b3d12dea09",
   "outputs": [],
   "execution_count": 30
  },
  {
   "metadata": {
    "ExecuteTime": {
     "end_time": "2024-08-28T03:36:20.340818Z",
     "start_time": "2024-08-28T03:36:20.338633Z"
    }
   },
   "cell_type": "code",
   "source": [
    "items = json_data[\"items\"]\n",
    "styles = json_data[\"styles\"]\n",
    "print(\"Length of items: \", len(items), \" - Length of styles: \", len(styles))"
   ],
   "id": "ecacdfe58aa6fc",
   "outputs": [
    {
     "name": "stdout",
     "output_type": "stream",
     "text": [
      "Length of items:  190  - Length of styles:  134\n"
     ]
    }
   ],
   "execution_count": 31
  },
  {
   "metadata": {
    "ExecuteTime": {
     "end_time": "2024-08-28T03:40:35.631854Z",
     "start_time": "2024-08-28T03:40:35.628173Z"
    }
   },
   "cell_type": "code",
   "source": [
    "item_ids = set()\n",
    "cnt_dup = 0\n",
    "for item in items:\n",
    "    id = item[\"_id\"] if \"_id\" in item else item[\"id\"]\n",
    "    if id in item_ids:\n",
    "        print(\"Duplicate id: \", id)\n",
    "        cnt_dup += 1\n",
    "    item_ids.add(id)\n",
    "    \n",
    "print(\"Number of duplicate ids: \", cnt_dup , \" - total ids: \", len(item_ids))"
   ],
   "id": "be7af2dc0d78649d",
   "outputs": [
    {
     "name": "stdout",
     "output_type": "stream",
     "text": [
      "Duplicate id:  a86453fb-c06d-4e65-88cc-c5e942fe0362\n",
      "Number of duplicate ids:  1  - total ids:  189\n"
     ]
    }
   ],
   "execution_count": 36
  },
  {
   "metadata": {
    "ExecuteTime": {
     "end_time": "2024-08-28T03:40:35.866348Z",
     "start_time": "2024-08-28T03:40:35.862100Z"
    }
   },
   "cell_type": "code",
   "source": [
    "style_ids = set()\n",
    "for style in styles:\n",
    "    id = style[\"_id\"] if \"_id\" in style else style[\"id\"]\n",
    "    style_ids.add(id)\n",
    "len(style_ids)"
   ],
   "id": "c280aed87b9f84b4",
   "outputs": [
    {
     "data": {
      "text/plain": [
       "134"
      ]
     },
     "execution_count": 37,
     "metadata": {},
     "output_type": "execute_result"
    }
   ],
   "execution_count": 37
  },
  {
   "metadata": {
    "ExecuteTime": {
     "end_time": "2024-08-28T03:40:36.952626Z",
     "start_time": "2024-08-28T03:40:36.950729Z"
    }
   },
   "cell_type": "code",
   "source": [
    "# find an id in styles that is not in items\n",
    "for sid in style_ids:\n",
    "    if sid not in item_ids:\n",
    "        print(\"Style id: \", sid)"
   ],
   "id": "91cc9c74e25c9fb3",
   "outputs": [],
   "execution_count": 38
  },
  {
   "metadata": {},
   "cell_type": "code",
   "outputs": [],
   "execution_count": null,
   "source": "",
   "id": "e41ba564aac03e18"
  }
 ],
 "metadata": {
  "kernelspec": {
   "display_name": "Python 3",
   "language": "python",
   "name": "python3"
  },
  "language_info": {
   "codemirror_mode": {
    "name": "ipython",
    "version": 2
   },
   "file_extension": ".py",
   "mimetype": "text/x-python",
   "name": "python",
   "nbconvert_exporter": "python",
   "pygments_lexer": "ipython2",
   "version": "2.7.6"
  }
 },
 "nbformat": 4,
 "nbformat_minor": 5
}
