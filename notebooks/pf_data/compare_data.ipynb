{
 "cells": [
  {
   "cell_type": "code",
   "id": "initial_id",
   "metadata": {
    "collapsed": true,
    "ExecuteTime": {
     "end_time": "2024-08-28T04:00:15.414466Z",
     "start_time": "2024-08-28T04:00:15.409309Z"
    }
   },
   "source": [
    "import logging\n",
    "\n",
    "\"\"\"\n",
    "This class represents the tree data structure.\n",
    "Each node has a dict value and a list of children.\n",
    "\"\"\"\n",
    "\n",
    "\n",
    "class Node:\n",
    "    def __init__(self, key, value=None):\n",
    "        self.key = key\n",
    "        self.value = value\n",
    "        self.children = []\n",
    "\n",
    "    def add_child(self, child):\n",
    "        self.children.append(child)\n",
    "\n",
    "    def __repr__(self, level=0):\n",
    "        ret = \"\\t\" * level + f\"{self.key}: {self.value}\\n\"\n",
    "        for child in self.children:\n",
    "            ret += child.__repr__(level + 1)\n",
    "        return ret\n",
    "\n",
    "    def __str__(self):\n",
    "        return self.__repr__(0)\n",
    "\n",
    "    @staticmethod\n",
    "    def parse_json(key, data):\n",
    "        if isinstance(data, dict):\n",
    "            node = Node(key)\n",
    "            for key, value in data.items():\n",
    "                node.add_child(Node.parse_json(key, value))\n",
    "            return node\n",
    "        if isinstance(data, list):\n",
    "            node = Node(key)\n",
    "            for i, item in enumerate(data):\n",
    "                node.add_child(Node.parse_json(f\"[{i}]\", item))\n",
    "            return node\n",
    "        else:\n",
    "            return Node(key, data)\n",
    "\n"
   ],
   "outputs": [],
   "execution_count": 1
  },
  {
   "cell_type": "code",
   "id": "680c4b1882a78654",
   "metadata": {
    "ExecuteTime": {
     "end_time": "2024-08-28T04:00:15.450172Z",
     "start_time": "2024-08-28T04:00:15.448528Z"
    }
   },
   "source": [
    "data = \"\"\"{\n",
    "\"name\":\"Homepage\",\n",
    "\"type\":\"FRAME\",\n",
    "\"visible\":true,\n",
    "\"x\":816,\n",
    "\"y\":100,\n",
    "\"width\":1440,\n",
    "\"height\":8406,\n",
    "\"rotation\":0,\n",
    "\"opacity\":1,\n",
    "\"cornerRadius\":0,\n",
    "\"cornerSmoothing\":0,\n",
    "\"constraints\":\n",
    "{\n",
    "\t\"horizontal\": \"MIN\",\n",
    "\t\"vertical\": \"MIN\"\n",
    "}\n",
    "}\n",
    "\"\"\""
   ],
   "outputs": [],
   "execution_count": 2
  },
  {
   "cell_type": "code",
   "id": "68d7c8ebac2e272e",
   "metadata": {
    "ExecuteTime": {
     "end_time": "2024-08-28T04:00:15.466744Z",
     "start_time": "2024-08-28T04:00:15.464957Z"
    }
   },
   "source": [
    "import json\n",
    "\n",
    "tree = Node.parse_json(\"root\", json.loads(data))"
   ],
   "outputs": [],
   "execution_count": 3
  },
  {
   "cell_type": "code",
   "id": "1660ab634516a635",
   "metadata": {
    "ExecuteTime": {
     "end_time": "2024-08-28T04:00:15.471043Z",
     "start_time": "2024-08-28T04:00:15.469464Z"
    }
   },
   "source": [
    "print(tree)"
   ],
   "outputs": [
    {
     "name": "stdout",
     "output_type": "stream",
     "text": [
      "root: None\n",
      "\tname: Homepage\n",
      "\ttype: FRAME\n",
      "\tvisible: True\n",
      "\tx: 816\n",
      "\ty: 100\n",
      "\twidth: 1440\n",
      "\theight: 8406\n",
      "\trotation: 0\n",
      "\topacity: 1\n",
      "\tcornerRadius: 0\n",
      "\tcornerSmoothing: 0\n",
      "\tconstraints: None\n",
      "\t\thorizontal: MIN\n",
      "\t\tvertical: MIN\n",
      "\n"
     ]
    }
   ],
   "execution_count": 4
  },
  {
   "cell_type": "code",
   "id": "6224c6f7c76eb642",
   "metadata": {
    "ExecuteTime": {
     "end_time": "2024-08-28T04:00:15.473432Z",
     "start_time": "2024-08-28T04:00:15.471968Z"
    }
   },
   "source": [
    "json_a = json.loads(\n",
    "    \"\"\"\n",
    "    [\n",
    "    { \"name\": \"Son\", \"age\": 40},\n",
    "    { \"name\": \"Huong\", \"age\": 44}\n",
    "    ]\n",
    "    \"\"\"\n",
    ")"
   ],
   "outputs": [],
   "execution_count": 5
  },
  {
   "cell_type": "code",
   "id": "436b613ce32478a9",
   "metadata": {
    "ExecuteTime": {
     "end_time": "2024-08-28T04:00:15.487215Z",
     "start_time": "2024-08-28T04:00:15.484132Z"
    }
   },
   "source": [
    "json_a"
   ],
   "outputs": [
    {
     "data": {
      "text/plain": [
       "[{'name': 'Son', 'age': 40}, {'name': 'Huong', 'age': 44}]"
      ]
     },
     "execution_count": 6,
     "metadata": {},
     "output_type": "execute_result"
    }
   ],
   "execution_count": 6
  },
  {
   "cell_type": "code",
   "id": "e409481835d7113c",
   "metadata": {
    "ExecuteTime": {
     "end_time": "2024-08-28T04:00:15.490328Z",
     "start_time": "2024-08-28T04:00:15.488270Z"
    }
   },
   "source": [
    "type(json_a)"
   ],
   "outputs": [
    {
     "data": {
      "text/plain": [
       "list"
      ]
     },
     "execution_count": 7,
     "metadata": {},
     "output_type": "execute_result"
    }
   ],
   "execution_count": 7
  },
  {
   "cell_type": "code",
   "id": "1157bfeae97fa28c",
   "metadata": {
    "ExecuteTime": {
     "end_time": "2024-08-28T04:00:15.501118Z",
     "start_time": "2024-08-28T04:00:15.499833Z"
    }
   },
   "source": [],
   "outputs": [],
   "execution_count": 7
  },
  {
   "cell_type": "code",
   "id": "5b2fc267221dfabf",
   "metadata": {
    "ExecuteTime": {
     "end_time": "2024-08-28T04:00:15.516390Z",
     "start_time": "2024-08-28T04:00:15.514603Z"
    }
   },
   "source": [
    "tree_a = Node.parse_json(\"root\", json_a)"
   ],
   "outputs": [],
   "execution_count": 8
  },
  {
   "cell_type": "code",
   "id": "43f60415151e5024",
   "metadata": {
    "ExecuteTime": {
     "end_time": "2024-08-28T04:00:15.520047Z",
     "start_time": "2024-08-28T04:00:15.518320Z"
    }
   },
   "source": [
    "tree_a"
   ],
   "outputs": [
    {
     "data": {
      "text/plain": [
       "root: None\n",
       "\t[0]: None\n",
       "\t\tname: Son\n",
       "\t\tage: 40\n",
       "\t[1]: None\n",
       "\t\tname: Huong\n",
       "\t\tage: 44"
      ]
     },
     "execution_count": 9,
     "metadata": {},
     "output_type": "execute_result"
    }
   ],
   "execution_count": 9
  },
  {
   "cell_type": "code",
   "id": "c20f16a5dbfc6ea8",
   "metadata": {
    "ExecuteTime": {
     "end_time": "2024-08-28T04:00:15.550144Z",
     "start_time": "2024-08-28T04:00:15.547927Z"
    }
   },
   "source": [
    "type(tree_a)"
   ],
   "outputs": [
    {
     "data": {
      "text/plain": [
       "__main__.Node"
      ]
     },
     "execution_count": 10,
     "metadata": {},
     "output_type": "execute_result"
    }
   ],
   "execution_count": 10
  },
  {
   "cell_type": "code",
   "id": "6e448e671c547e88",
   "metadata": {
    "ExecuteTime": {
     "end_time": "2024-08-28T04:00:15.553811Z",
     "start_time": "2024-08-28T04:00:15.552147Z"
    }
   },
   "source": [
    "print(json_a)"
   ],
   "outputs": [
    {
     "name": "stdout",
     "output_type": "stream",
     "text": [
      "[{'name': 'Son', 'age': 40}, {'name': 'Huong', 'age': 44}]\n"
     ]
    }
   ],
   "execution_count": 11
  },
  {
   "cell_type": "code",
   "id": "a284cafeb0790090",
   "metadata": {
    "ExecuteTime": {
     "end_time": "2024-08-28T04:00:15.567393Z",
     "start_time": "2024-08-28T04:00:15.565854Z"
    }
   },
   "source": [
    "print(tree_a)"
   ],
   "outputs": [
    {
     "name": "stdout",
     "output_type": "stream",
     "text": [
      "root: None\n",
      "\t[0]: None\n",
      "\t\tname: Son\n",
      "\t\tage: 40\n",
      "\t[1]: None\n",
      "\t\tname: Huong\n",
      "\t\tage: 44\n",
      "\n"
     ]
    }
   ],
   "execution_count": 12
  },
  {
   "cell_type": "code",
   "id": "2169bb10795e74e3",
   "metadata": {
    "ExecuteTime": {
     "end_time": "2024-08-28T04:00:15.583415Z",
     "start_time": "2024-08-28T04:00:15.581188Z"
    }
   },
   "source": [
    "class PFStyle:\n",
    "    def __init__(self, json_data):\n",
    "        if \"_id\" in json_data:\n",
    "            self.item_id = json_data[\"_id\"]\n",
    "        elif \"id\" in json_data:\n",
    "            self.item_id = json_data[\"id\"]\n",
    "        else:\n",
    "            print(\"Error: no id - data: \", json_data)\n",
    "            return\n",
    "        if \"type\" in json_data:\n",
    "            self.type = json_data[\"type\"]\n",
    "        else:\n",
    "            self.type = None\n",
    "        if \"styles\" in json_data:\n",
    "            self.styles = json_data[\"styles\"]\n",
    "        else:\n",
    "            self.styles = {}\n",
    "\n",
    "    def __repr__(self):\n",
    "        return json.dumps(self.__dict__, indent=4)"
   ],
   "outputs": [],
   "execution_count": 13
  },
  {
   "cell_type": "code",
   "id": "c997c570d9c78a7b",
   "metadata": {
    "ExecuteTime": {
     "end_time": "2024-08-28T04:00:15.608373Z",
     "start_time": "2024-08-28T04:00:15.605633Z"
    }
   },
   "source": [
    "class PFNode:\n",
    "    def __init__(self, json_data):\n",
    "        if \"_id\" in json_data:\n",
    "            self.id = json_data[\"_id\"]\n",
    "        elif \"id\" in json_data:\n",
    "            self.id = json_data[\"id\"]\n",
    "        else:\n",
    "            print(\"Error: no id - data: \", json_data)\n",
    "            return\n",
    "        if \"data\" in json_data:\n",
    "            self.data = json_data[\"data\"]\n",
    "        else:\n",
    "            self.data = {}\n",
    "        if \"styles\" in json_data:\n",
    "            self.styles = json_data[\"styles\"]\n",
    "        else:\n",
    "            self.styles = []\n",
    "        if \"children\" in json_data:\n",
    "            self.child_ids = json_data[\"children\"]\n",
    "        else:\n",
    "            self.child_ids = []\n",
    "        self.type = json_data[\"type\"]\n",
    "        self.children = []  # to parse later whe\n",
    "\n",
    "    def add_child(self, child):\n",
    "        self.children.append(child)\n",
    "\n",
    "    def add_style(self, style):\n",
    "        self.styles.append(style)\n",
    "\n",
    "    def __repr__(self):\n",
    "        # return the representation of the node in JSON format\n",
    "        return json.dumps(self.__dict__, indent=4)\n",
    "\n"
   ],
   "outputs": [],
   "execution_count": 14
  },
  {
   "cell_type": "code",
   "id": "413be3243ffd54be",
   "metadata": {
    "ExecuteTime": {
     "end_time": "2024-08-28T04:00:15.625298Z",
     "start_time": "2024-08-28T04:00:15.623248Z"
    }
   },
   "source": [
    "json_str = \"\"\"{\n",
    "      \"children\": [\n",
    "        \"abece676-3ba9-4206-b586-27c705d58a09\"\n",
    "      ],\n",
    "      \"_id\": \"bcabece6-763b-4972-8675-8627c705d58a\",\n",
    "      \"type\": \"Heading2\",\n",
    "      \"data\": {\n",
    "        \"value\": \"Need it by Valentine? Select Express Shipping at Checkout!\",\n",
    "        \"placeholder\": \"Need it by Valentine? Select Express Shipping at Checkout!\"\n",
    "      },\n",
    "      \"styles\": []\n",
    "    }\"\"\"\n",
    "json_data = json.loads(json_str)\n",
    "json_data"
   ],
   "outputs": [
    {
     "data": {
      "text/plain": [
       "{'children': ['abece676-3ba9-4206-b586-27c705d58a09'],\n",
       " '_id': 'bcabece6-763b-4972-8675-8627c705d58a',\n",
       " 'type': 'Heading2',\n",
       " 'data': {'value': 'Need it by Valentine? Select Express Shipping at Checkout!',\n",
       "  'placeholder': 'Need it by Valentine? Select Express Shipping at Checkout!'},\n",
       " 'styles': []}"
      ]
     },
     "execution_count": 15,
     "metadata": {},
     "output_type": "execute_result"
    }
   ],
   "execution_count": 15
  },
  {
   "cell_type": "code",
   "id": "63f0b6d7f7d7d5b1",
   "metadata": {
    "ExecuteTime": {
     "end_time": "2024-08-28T04:00:15.628152Z",
     "start_time": "2024-08-28T04:00:15.626797Z"
    }
   },
   "source": [
    "exp_node = PFNode(json_data)"
   ],
   "outputs": [],
   "execution_count": 16
  },
  {
   "cell_type": "code",
   "id": "f945fc40bd2d8c1c",
   "metadata": {
    "ExecuteTime": {
     "end_time": "2024-08-28T04:00:15.661835Z",
     "start_time": "2024-08-28T04:00:15.659621Z"
    }
   },
   "source": [
    "exp_node"
   ],
   "outputs": [
    {
     "data": {
      "text/plain": [
       "{\n",
       "    \"id\": \"bcabece6-763b-4972-8675-8627c705d58a\",\n",
       "    \"data\": {\n",
       "        \"value\": \"Need it by Valentine? Select Express Shipping at Checkout!\",\n",
       "        \"placeholder\": \"Need it by Valentine? Select Express Shipping at Checkout!\"\n",
       "    },\n",
       "    \"styles\": [],\n",
       "    \"child_ids\": [\n",
       "        \"abece676-3ba9-4206-b586-27c705d58a09\"\n",
       "    ],\n",
       "    \"type\": \"Heading2\",\n",
       "    \"children\": []\n",
       "}"
      ]
     },
     "execution_count": 17,
     "metadata": {},
     "output_type": "execute_result"
    }
   ],
   "execution_count": 17
  },
  {
   "cell_type": "code",
   "id": "bec4823932bfcb4e",
   "metadata": {
    "ExecuteTime": {
     "end_time": "2024-08-28T04:02:13.652427Z",
     "start_time": "2024-08-28T04:02:13.645530Z"
    }
   },
   "source": [
    "import logging\n",
    "\n",
    "# Set up basic configuration for logging\n",
    "logging.basicConfig(\n",
    "    level=logging.DEBUG,  # Set the logging level\n",
    "    format='%(asctime)s - %(name)s - %(levelname)s - %(message)s',  # Define the log format\n",
    "    datefmt='%Y-%m-%d %H:%M:%S'  # Define the date format\n",
    ")\n",
    "\n",
    "class PFTree:\n",
    "    def __init__(self, json_data):\n",
    "        self.items = []\n",
    "        self.id2node = {}\n",
    "        self.id2numid = {}\n",
    "        idx = 0\n",
    "        for item_data in json_data[\"items\"]:\n",
    "            node = PFNode(item_data)\n",
    "            self.items.append(node)\n",
    "            self.id2node[node.id] = node\n",
    "            self.id2numid[node.id] = idx\n",
    "            idx += 1\n",
    "            \n",
    "        self.n = len(self.items)\n",
    "        print(\"Number of nodes: \", self.n)\n",
    "\n",
    "        # parse styles\n",
    "        self.styles = set()\n",
    "        for style_data in json_data[\"styles\"]:\n",
    "            style = PFStyle(style_data)\n",
    "            item_id = style.item_id\n",
    "            self.styles.add(style)\n",
    "            if item_id in self.id2node:\n",
    "                node = self.id2node[item_id]\n",
    "                node.add_style(style)\n",
    "                if len(node.styles) > 1:\n",
    "                    logging.warning(\"Multiple styles for node: %s\", node.id, \" - styles: %s\", node.styles)\n",
    "        print(\"Number of styles: \", len(self.styles))\n",
    "\n",
    "        self.__root = None\n",
    "        self._parse_tree()\n",
    "\n",
    "    def _parse_tree(self):\n",
    "        count_incoming = [0] * self.n\n",
    "        processed_node = [False] * self.n\n",
    "        for node in self.items:\n",
    "            if processed_node[self.id2numid[node.id]]:\n",
    "                print(\"Error: duplicate node id: \", node.id)\n",
    "                continue\n",
    "            for child_id in node.child_ids:\n",
    "                if child_id in self.id2node.keys():\n",
    "                    node.add_child(self.id2node[child_id])\n",
    "                    count_incoming[self.id2numid[child_id]] += 1\n",
    "                    if count_incoming[self.id2numid[child_id]] > 1:\n",
    "                        print(\"Error: multiple incoming edges, id: \", child_id)\n",
    "                        return\n",
    "                else:\n",
    "                    logging.warning(\"Child id not found in items: %s \", child_id)\n",
    "            processed_node[self.id2numid[node.id]] = True\n",
    "        cnt_root = 0\n",
    "        for node in self.items:\n",
    "            numid = self.id2numid[node.id]\n",
    "            if count_incoming[numid] == 0:\n",
    "                self.__root = node\n",
    "                cnt_root += 1\n",
    "\n",
    "        print(\"cnt_root: \", cnt_root)\n",
    "        if cnt_root == 0:\n",
    "            print(\"Error: no root\")\n",
    "            return None\n",
    "        if cnt_root > 1:\n",
    "            print(\"Error: multiple roots\")\n",
    "            self.__root = None\n",
    "            return None\n",
    "        return self.__root\n",
    "\n",
    "    def __repr__(self):\n",
    "        return json.dumps(self.__dict__, indent=4)"
   ],
   "outputs": [],
   "execution_count": 29
  },
  {
   "cell_type": "code",
   "id": "d53dea0d37439d77",
   "metadata": {
    "ExecuteTime": {
     "end_time": "2024-08-28T04:02:13.857424Z",
     "start_time": "2024-08-28T04:02:13.850670Z"
    }
   },
   "source": [
    "with open(\"sample_figma_to_pf_data/FullPage/figma-to-pf.json\") as f:\n",
    "    json_data = json.load(f)  # read json from file \"data.json\"\n",
    "tree = PFTree(json_data)"
   ],
   "outputs": [
    {
     "name": "stderr",
     "output_type": "stream",
     "text": [
      "2024-08-28 11:02:13 - root - WARNING - Child id not found in items: 08bb4353-b6f8-4f16-b50e-77271bca703a \n"
     ]
    },
    {
     "name": "stdout",
     "output_type": "stream",
     "text": [
      "Number of nodes:  832\n",
      "Number of styles:  601\n",
      "Error: duplicate node id:  3ecfb804-bcab-4ce6-b63b-a97206758627\n",
      "cnt_root:  1\n"
     ]
    }
   ],
   "execution_count": 30
  },
  {
   "metadata": {
    "ExecuteTime": {
     "end_time": "2024-08-28T04:02:14.359883Z",
     "start_time": "2024-08-28T04:02:14.357142Z"
    }
   },
   "cell_type": "code",
   "source": [
    "debug_node = None\n",
    "for item in tree.items:\n",
    "    if item.id == \"8627c705-d58a-49e1-8da1-04cd1eb64d68\":\n",
    "        debug_node = item\n",
    "        print(\"Found node: \", debug_node.id)\n",
    "        break\n",
    "\n",
    "debug_node.child_ids\n",
    "        "
   ],
   "id": "98623209ff71c211",
   "outputs": [
    {
     "name": "stdout",
     "output_type": "stream",
     "text": [
      "Found node:  8627c705-d58a-49e1-8da1-04cd1eb64d68\n"
     ]
    },
    {
     "data": {
      "text/plain": [
       "['27c705d5-8a09-414d-a104-cd1eb64d680c',\n",
       " '05d58a09-e14d-4104-8d1e-b64d680c84d2',\n",
       " '8a09e14d-a104-4d1e-b64d-680c84d29973']"
      ]
     },
     "execution_count": 31,
     "metadata": {},
     "output_type": "execute_result"
    }
   ],
   "execution_count": 31
  },
  {
   "metadata": {
    "ExecuteTime": {
     "end_time": "2024-08-28T04:02:15.269070Z",
     "start_time": "2024-08-28T04:02:15.266371Z"
    }
   },
   "cell_type": "code",
   "source": "type(debug_node.child_ids)",
   "id": "31ec9c8c8aeb6382",
   "outputs": [
    {
     "data": {
      "text/plain": [
       "list"
      ]
     },
     "execution_count": 32,
     "metadata": {},
     "output_type": "execute_result"
    }
   ],
   "execution_count": 32
  },
  {
   "cell_type": "code",
   "id": "128a4e85eafff1ab",
   "metadata": {
    "ExecuteTime": {
     "end_time": "2024-08-28T04:02:15.601803Z",
     "start_time": "2024-08-28T04:02:15.598954Z"
    }
   },
   "source": [
    "json_str = \"\"\"{\n",
    "  \"customJS\": \"\",\n",
    "  \"customCSS\": \"\",\n",
    "  \"pageflyVersion\": \"4.13.3\",\n",
    "  \"type\": \"page\",\n",
    "  \"globalSectionData\": [],\n",
    "  \"items\": [\n",
    "    {\n",
    "      \"_id\": \"root-id\",\n",
    "      \"type\": \"Container\",\n",
    "      \"data\": {},\n",
    "      \"styles\": [],\n",
    "      \"children\": [\n",
    "        \"heading-id\",\n",
    "        \"icon-id\"\n",
    "      ]\n",
    "    },\n",
    "    {\n",
    "      \"_id\": \"heading-id\",\n",
    "      \"type\": \"Heading2\",\n",
    "      \"data\": {\n",
    "        \"value\": \"Need it by Valentine? Select Express Shipping at Checkout!\",\n",
    "        \"placeholder\": \"Need it by Valentine? Select Express Shipping at Checkout!\"\n",
    "      },\n",
    "      \"styles\": [],\n",
    "      \"children\": []\n",
    "    },\n",
    "    {\n",
    "      \"_id\": \"icon-id\",\n",
    "      \"type\": \"Icon2\",\n",
    "      \"data\": {},\n",
    "      \"styles\": [],\n",
    "      \"children\": [\n",
    "        \"nested-container-id\"\n",
    "      ]\n",
    "    },\n",
    "    {\n",
    "      \"_id\": \"nested-container-id\",\n",
    "      \"type\": \"Container\",\n",
    "      \"data\": {},\n",
    "      \"styles\": [],\n",
    "      \"children\": [\n",
    "        \"nested-heading-id\"\n",
    "      ]\n",
    "    },\n",
    "    {\n",
    "      \"_id\": \"nested-heading-id\",\n",
    "      \"type\": \"Heading3\",\n",
    "      \"data\": {\n",
    "        \"value\": \"Hurry up, limited time offer!\",\n",
    "        \"placeholder\": \"Hurry up, limited time offer!\"\n",
    "      },\n",
    "      \"styles\": [],\n",
    "      \"children\": []\n",
    "    }\n",
    "  ],\n",
    "  \"styles\": [\n",
    "    {\n",
    "      \"_id\": \"style-id1\",\n",
    "      \"type\": \"Label\",\n",
    "      \"styles\": {\n",
    "        \"color\": \"red\",\n",
    "        \"font-size\": \"20px\"\n",
    "      }\n",
    "    },\n",
    "    {\n",
    "        \"_id\": \"style-id2\",\n",
    "        \"type\": \"Text\",\n",
    "        \"styles\": {\n",
    "            \"color\": \"blue\",\n",
    "            \"font-size\": \"30px\"\n",
    "        }\n",
    "    }\n",
    "  ]\n",
    "}\n",
    "\"\"\"\n",
    "PD = PFTree(json.loads(json_str))"
   ],
   "outputs": [
    {
     "name": "stdout",
     "output_type": "stream",
     "text": [
      "Number of nodes:  5\n",
      "Number of styles:  2\n",
      "cnt_root:  1\n"
     ]
    }
   ],
   "execution_count": 33
  },
  {
   "cell_type": "code",
   "id": "3113178c3d58e2a8",
   "metadata": {
    "ExecuteTime": {
     "end_time": "2024-08-28T04:02:16.094185Z",
     "start_time": "2024-08-28T04:02:16.092816Z"
    }
   },
   "source": [],
   "outputs": [],
   "execution_count": 33
  },
  {
   "cell_type": "code",
   "id": "d3b88547a9eba8d4",
   "metadata": {
    "ExecuteTime": {
     "end_time": "2024-08-28T04:02:16.410368Z",
     "start_time": "2024-08-28T04:02:16.408962Z"
    }
   },
   "source": [],
   "outputs": [],
   "execution_count": 33
  },
  {
   "cell_type": "code",
   "id": "72016b1194bd4c4d",
   "metadata": {
    "ExecuteTime": {
     "end_time": "2024-08-28T04:02:16.590892Z",
     "start_time": "2024-08-28T04:02:16.587851Z"
    }
   },
   "source": [
    "class FigmaNode:\n",
    "    def __init__(self):\n",
    "        self.data = {}\n",
    "        self.children = []\n",
    "\n",
    "    def add_data(self, key, value):\n",
    "        self.data[key] = value\n",
    "\n",
    "    def add_child(self, child):\n",
    "        self.children.append(child)\n",
    "\n",
    "    @staticmethod\n",
    "    def parse_figma_tree(json_dict: dict):\n",
    "        node = FigmaNode()\n",
    "        for key, value in json_dict.items():\n",
    "            if key != \"children\":\n",
    "                node.add_data(key, value)\n",
    "            else:\n",
    "                for child in value:\n",
    "                    node.add_child(FigmaNode.parse_figma_tree(child))\n",
    "        return node\n",
    "\n",
    "    def count_nodes(self):\n",
    "        return 1 + sum(child.count_nodes() for child in self.children)"
   ],
   "outputs": [],
   "execution_count": 34
  },
  {
   "cell_type": "code",
   "id": "59aaf50c2dc53c1f",
   "metadata": {
    "ExecuteTime": {
     "end_time": "2024-08-28T04:02:17.075193Z",
     "start_time": "2024-08-28T04:02:17.067818Z"
    }
   },
   "source": [
    "import json\n",
    "\n",
    "with open(\"sample_figma_to_pf_data/FullPage/Figma.json\") as f:\n",
    "    figma_json = json.load(f)\n",
    "root = FigmaNode.parse_figma_tree(figma_json)\n",
    "print(\"Number of nodes: \", root.count_nodes())"
   ],
   "outputs": [
    {
     "name": "stdout",
     "output_type": "stream",
     "text": [
      "Number of nodes:  601\n"
     ]
    }
   ],
   "execution_count": 35
  },
  {
   "cell_type": "code",
   "id": "80b6b0d68c21cf82",
   "metadata": {
    "ExecuteTime": {
     "end_time": "2024-08-28T04:02:17.484538Z",
     "start_time": "2024-08-28T04:02:17.479274Z"
    }
   },
   "source": [
    "with open(\"sample_figma_to_pf_data/FullPage/figma-to-pf.json\") as f:\n",
    "    json_data = json.load(f)  # read json from file \"data.json\"\n",
    "data = PFTree(json_data)"
   ],
   "outputs": [
    {
     "name": "stderr",
     "output_type": "stream",
     "text": [
      "2024-08-28 11:02:17 - root - WARNING - Child id not found in items: 08bb4353-b6f8-4f16-b50e-77271bca703a \n"
     ]
    },
    {
     "name": "stdout",
     "output_type": "stream",
     "text": [
      "Number of nodes:  832\n",
      "Number of styles:  601\n",
      "Error: duplicate node id:  3ecfb804-bcab-4ce6-b63b-a97206758627\n",
      "cnt_root:  1\n"
     ]
    }
   ],
   "execution_count": 36
  },
  {
   "cell_type": "code",
   "id": "93be326954f6f91d",
   "metadata": {
    "ExecuteTime": {
     "end_time": "2024-08-28T04:02:20.046459Z",
     "start_time": "2024-08-28T04:02:20.043341Z"
    }
   },
   "source": [
    "file_names = [\n",
    "    {\"pfdata\": \"sample_figma_to_pf_data/ContentList/figma-to-pf.json\",\n",
    "     \"figma\": \"sample_figma_to_pf_data/ContentList/RawFigma.json\"\n",
    "     },\n",
    "    {\"pfdata\": \"sample_figma_to_pf_data/CountDown/figma-to-pf.json\",\n",
    "     \"figma\": \"sample_figma_to_pf_data/CountDown/RawFigma.json\"\n",
    "     },\n",
    "    {\"pfdata\": \"sample_figma_to_pf_data/CustomerForm/figma-to-pf.json\",\n",
    "     \"figma\": \"sample_figma_to_pf_data/CustomerForm/RawFigma.json\"\n",
    "     },\n",
    "    {\"pfdata\": \"sample_figma_to_pf_data/FullPage/figma-to-pf.json\",\n",
    "     \"figma\": \"sample_figma_to_pf_data/FullPage/Figma.json\"\n",
    "     },\n",
    "    {\"pfdata\": \"sample_figma_to_pf_data/NormalButtonAndImages/figma-to-pf.json\",\n",
    "     \"figma\": \"sample_figma_to_pf_data/NormalButtonAndImages/RawFigma.json\"\n",
    "     },\n",
    "    {\"pfdata\": \"sample_figma_to_pf_data/ProductDetail/figma-to-pf.json\",\n",
    "     \"figma\": \"sample_figma_to_pf_data/ProductDetail/RawFigma.json\"\n",
    "     },\n",
    "    {\"pfdata\": \"sample_figma_to_pf_data/ProductList/figma-to-pf.json\",\n",
    "     \"figma\": \"sample_figma_to_pf_data/ProductList/RawFigma.json\"\n",
    "     }\n",
    "]"
   ],
   "outputs": [],
   "execution_count": 37
  },
  {
   "cell_type": "code",
   "id": "698c32b61611d4d7",
   "metadata": {
    "ExecuteTime": {
     "end_time": "2024-08-28T04:02:20.709196Z",
     "start_time": "2024-08-28T04:02:20.693418Z"
    }
   },
   "source": [
    "for file_name in file_names:\n",
    "    print(\"=== FILE === \",file_name[\"pfdata\"].split(\"/\")[1] )\n",
    "    print(\"=pfdata=\")\n",
    "    with open(file_name[\"pfdata\"]) as f:\n",
    "        json_data = json.load(f)\n",
    "    data = PFTree(json_data)\n",
    "    print(\"=figma=\")\n",
    "    with open(file_name[\"figma\"]) as f:\n",
    "        figma_json = json.load(f)\n",
    "    root = FigmaNode.parse_figma_tree(figma_json)\n",
    "    print(\"Number of nodes: \", root.count_nodes())"
   ],
   "outputs": [
    {
     "name": "stderr",
     "output_type": "stream",
     "text": [
      "2024-08-28 11:02:20 - root - WARNING - Child id not found in items: 08bb4353-b6f8-4f16-b50e-77271bca703a \n"
     ]
    },
    {
     "name": "stdout",
     "output_type": "stream",
     "text": [
      "=== FILE ===  ContentList\n",
      "=pfdata=\n",
      "Number of nodes:  190\n",
      "Number of styles:  134\n",
      "Error: duplicate node id:  a86453fb-c06d-4e65-88cc-c5e942fe0362\n",
      "cnt_root:  1\n",
      "=figma=\n",
      "Number of nodes:  33\n",
      "=== FILE ===  CountDown\n",
      "=pfdata=\n",
      "Number of nodes:  49\n",
      "Number of styles:  34\n",
      "Error: duplicate node id:  f4035e67-b987-41ca-b4da-e4a4e2041dbf\n",
      "cnt_root:  1\n",
      "=figma=\n",
      "Number of nodes:  37\n",
      "=== FILE ===  CustomerForm\n",
      "=pfdata=\n",
      "Number of nodes:  38\n",
      "Number of styles:  24\n",
      "cnt_root:  1\n",
      "=figma=\n",
      "Number of nodes:  24\n",
      "=== FILE ===  FullPage\n",
      "=pfdata=\n",
      "Number of nodes:  832\n",
      "Number of styles:  601\n",
      "Error: duplicate node id:  3ecfb804-bcab-4ce6-b63b-a97206758627\n",
      "cnt_root:  1\n",
      "=figma=\n",
      "Number of nodes:  601\n",
      "=== FILE ===  NormalButtonAndImages\n",
      "=pfdata=\n",
      "Number of nodes:  15\n",
      "Number of styles:  10\n",
      "Error: duplicate node id:  caa975e2-2191-44c7-8d8b-2978296854b1\n",
      "cnt_root:  1\n",
      "=figma=\n",
      "Number of nodes:  10\n",
      "=== FILE ===  ProductDetail\n",
      "=pfdata=\n",
      "Number of nodes:  74\n",
      "Number of styles:  54\n",
      "Error: duplicate node id:  0396f01b-b018-479d-8406-f15c454640e2\n",
      "cnt_root:  1\n",
      "=figma=\n",
      "Number of nodes:  58\n",
      "=== FILE ===  ProductList\n",
      "=pfdata=\n",
      "Number of nodes:  190\n",
      "Number of styles:  134\n",
      "Error: duplicate node id:  a86453fb-c06d-4e65-88cc-c5e942fe0362\n",
      "cnt_root:  1\n",
      "=figma=\n",
      "Number of nodes:  126\n"
     ]
    }
   ],
   "execution_count": 38
  },
  {
   "cell_type": "code",
   "id": "9d136b4dde21804f",
   "metadata": {},
   "source": [
    "# This class will be used to compare the two trees\n",
    "class TreeComparator:\n",
    "    def __init__(self, pf_tree, figma_tree):\n",
    "        self.pf_tree = pf_tree\n",
    "        self.figma_tree = figma_tree\n",
    "\n",
    "    def compare_trees(self):\n",
    "        "
   ],
   "outputs": [],
   "execution_count": null
  }
 ],
 "metadata": {
  "kernelspec": {
   "display_name": "Python 3",
   "language": "python",
   "name": "python3"
  },
  "language_info": {
   "codemirror_mode": {
    "name": "ipython",
    "version": 2
   },
   "file_extension": ".py",
   "mimetype": "text/x-python",
   "name": "python",
   "nbconvert_exporter": "python",
   "pygments_lexer": "ipython2",
   "version": "2.7.6"
  }
 },
 "nbformat": 4,
 "nbformat_minor": 5
}
